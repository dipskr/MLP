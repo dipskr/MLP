{
 "cells": [
  {
   "cell_type": "code",
   "execution_count": 1,
   "id": "01af1628",
   "metadata": {},
   "outputs": [],
   "source": [
    "import numpy as np\n",
    "import pandas as pd\n",
    "from matplotlib import pyplot as plt\n",
    "from sklearn.metrics import confusion_matrix\n",
    "from sklearn.neighbors import KNeighborsClassifier\n",
    "from sklearn.model_selection import train_test_split\n",
    "import seaborn as sns\n",
    "sns.set()"
   ]
  },
  {
   "cell_type": "code",
   "execution_count": 2,
   "id": "e66286d8",
   "metadata": {},
   "outputs": [],
   "source": [
    "bankData = pd.read_csv(\"C:\\\\Users\\\\dipu\\\\Downloads\\\\MLP\\\\loanPredict.csv\")"
   ]
  },
  {
   "cell_type": "code",
   "execution_count": 3,
   "id": "9174941b",
   "metadata": {},
   "outputs": [
    {
     "data": {
      "text/html": [
       "<div>\n",
       "<style scoped>\n",
       "    .dataframe tbody tr th:only-of-type {\n",
       "        vertical-align: middle;\n",
       "    }\n",
       "\n",
       "    .dataframe tbody tr th {\n",
       "        vertical-align: top;\n",
       "    }\n",
       "\n",
       "    .dataframe thead th {\n",
       "        text-align: right;\n",
       "    }\n",
       "</style>\n",
       "<table border=\"1\" class=\"dataframe\">\n",
       "  <thead>\n",
       "    <tr style=\"text-align: right;\">\n",
       "      <th></th>\n",
       "      <th>Loan_ID</th>\n",
       "      <th>Gender</th>\n",
       "      <th>Married</th>\n",
       "      <th>Dependents</th>\n",
       "      <th>Education</th>\n",
       "      <th>Self_Employed</th>\n",
       "      <th>ApplicantIncome</th>\n",
       "      <th>CoapplicantIncome</th>\n",
       "      <th>LoanAmount</th>\n",
       "      <th>Loan_Amount_Term</th>\n",
       "      <th>Credit_History</th>\n",
       "      <th>Property_Area</th>\n",
       "      <th>Loan_Status</th>\n",
       "    </tr>\n",
       "  </thead>\n",
       "  <tbody>\n",
       "    <tr>\n",
       "      <th>0</th>\n",
       "      <td>LP001002</td>\n",
       "      <td>Male</td>\n",
       "      <td>No</td>\n",
       "      <td>0</td>\n",
       "      <td>Graduate</td>\n",
       "      <td>No</td>\n",
       "      <td>5849</td>\n",
       "      <td>0.0</td>\n",
       "      <td>NaN</td>\n",
       "      <td>360.0</td>\n",
       "      <td>1.0</td>\n",
       "      <td>Urban</td>\n",
       "      <td>Y</td>\n",
       "    </tr>\n",
       "    <tr>\n",
       "      <th>1</th>\n",
       "      <td>LP001003</td>\n",
       "      <td>Male</td>\n",
       "      <td>Yes</td>\n",
       "      <td>1</td>\n",
       "      <td>Graduate</td>\n",
       "      <td>No</td>\n",
       "      <td>4583</td>\n",
       "      <td>1508.0</td>\n",
       "      <td>128.0</td>\n",
       "      <td>360.0</td>\n",
       "      <td>1.0</td>\n",
       "      <td>Rural</td>\n",
       "      <td>N</td>\n",
       "    </tr>\n",
       "    <tr>\n",
       "      <th>2</th>\n",
       "      <td>LP001005</td>\n",
       "      <td>Male</td>\n",
       "      <td>Yes</td>\n",
       "      <td>0</td>\n",
       "      <td>Graduate</td>\n",
       "      <td>Yes</td>\n",
       "      <td>3000</td>\n",
       "      <td>0.0</td>\n",
       "      <td>66.0</td>\n",
       "      <td>360.0</td>\n",
       "      <td>1.0</td>\n",
       "      <td>Urban</td>\n",
       "      <td>Y</td>\n",
       "    </tr>\n",
       "    <tr>\n",
       "      <th>3</th>\n",
       "      <td>LP001006</td>\n",
       "      <td>Male</td>\n",
       "      <td>Yes</td>\n",
       "      <td>0</td>\n",
       "      <td>Not Graduate</td>\n",
       "      <td>No</td>\n",
       "      <td>2583</td>\n",
       "      <td>2358.0</td>\n",
       "      <td>120.0</td>\n",
       "      <td>360.0</td>\n",
       "      <td>1.0</td>\n",
       "      <td>Urban</td>\n",
       "      <td>Y</td>\n",
       "    </tr>\n",
       "    <tr>\n",
       "      <th>4</th>\n",
       "      <td>LP001008</td>\n",
       "      <td>Male</td>\n",
       "      <td>No</td>\n",
       "      <td>0</td>\n",
       "      <td>Graduate</td>\n",
       "      <td>No</td>\n",
       "      <td>6000</td>\n",
       "      <td>0.0</td>\n",
       "      <td>141.0</td>\n",
       "      <td>360.0</td>\n",
       "      <td>1.0</td>\n",
       "      <td>Urban</td>\n",
       "      <td>Y</td>\n",
       "    </tr>\n",
       "  </tbody>\n",
       "</table>\n",
       "</div>"
      ],
      "text/plain": [
       "    Loan_ID Gender Married Dependents     Education Self_Employed  \\\n",
       "0  LP001002   Male      No          0      Graduate            No   \n",
       "1  LP001003   Male     Yes          1      Graduate            No   \n",
       "2  LP001005   Male     Yes          0      Graduate           Yes   \n",
       "3  LP001006   Male     Yes          0  Not Graduate            No   \n",
       "4  LP001008   Male      No          0      Graduate            No   \n",
       "\n",
       "   ApplicantIncome  CoapplicantIncome  LoanAmount  Loan_Amount_Term  \\\n",
       "0             5849                0.0         NaN             360.0   \n",
       "1             4583             1508.0       128.0             360.0   \n",
       "2             3000                0.0        66.0             360.0   \n",
       "3             2583             2358.0       120.0             360.0   \n",
       "4             6000                0.0       141.0             360.0   \n",
       "\n",
       "   Credit_History Property_Area Loan_Status  \n",
       "0             1.0         Urban           Y  \n",
       "1             1.0         Rural           N  \n",
       "2             1.0         Urban           Y  \n",
       "3             1.0         Urban           Y  \n",
       "4             1.0         Urban           Y  "
      ]
     },
     "execution_count": 3,
     "metadata": {},
     "output_type": "execute_result"
    }
   ],
   "source": [
    "bankData.head()"
   ]
  },
  {
   "cell_type": "code",
   "execution_count": 4,
   "id": "3fc329e8",
   "metadata": {},
   "outputs": [
    {
     "data": {
      "text/plain": [
       "(614, 13)"
      ]
     },
     "execution_count": 4,
     "metadata": {},
     "output_type": "execute_result"
    }
   ],
   "source": [
    "#to get the shape (no. of rows and coloumns) of dataset\n",
    "bankData.shape"
   ]
  },
  {
   "cell_type": "code",
   "execution_count": 5,
   "id": "02297886",
   "metadata": {},
   "outputs": [
    {
     "data": {
      "text/plain": [
       "7982"
      ]
     },
     "execution_count": 5,
     "metadata": {},
     "output_type": "execute_result"
    }
   ],
   "source": [
    "bankData.size"
   ]
  },
  {
   "cell_type": "code",
   "execution_count": 6,
   "id": "b66f9dea",
   "metadata": {},
   "outputs": [
    {
     "name": "stdout",
     "output_type": "stream",
     "text": [
      "<class 'pandas.core.frame.DataFrame'>\n",
      "RangeIndex: 614 entries, 0 to 613\n",
      "Data columns (total 13 columns):\n",
      " #   Column             Non-Null Count  Dtype  \n",
      "---  ------             --------------  -----  \n",
      " 0   Loan_ID            614 non-null    object \n",
      " 1   Gender             601 non-null    object \n",
      " 2   Married            611 non-null    object \n",
      " 3   Dependents         599 non-null    object \n",
      " 4   Education          614 non-null    object \n",
      " 5   Self_Employed      582 non-null    object \n",
      " 6   ApplicantIncome    614 non-null    int64  \n",
      " 7   CoapplicantIncome  614 non-null    float64\n",
      " 8   LoanAmount         592 non-null    float64\n",
      " 9   Loan_Amount_Term   600 non-null    float64\n",
      " 10  Credit_History     564 non-null    float64\n",
      " 11  Property_Area      614 non-null    object \n",
      " 12  Loan_Status        614 non-null    object \n",
      "dtypes: float64(4), int64(1), object(8)\n",
      "memory usage: 62.5+ KB\n"
     ]
    }
   ],
   "source": [
    "#to get data types and non null values in each column\n",
    "bankData.info()"
   ]
  },
  {
   "cell_type": "code",
   "execution_count": 7,
   "id": "6ce05cb4",
   "metadata": {},
   "outputs": [
    {
     "data": {
      "text/plain": [
       "Loan_ID               0\n",
       "Gender               13\n",
       "Married               3\n",
       "Dependents           15\n",
       "Education             0\n",
       "Self_Employed        32\n",
       "ApplicantIncome       0\n",
       "CoapplicantIncome     0\n",
       "LoanAmount           22\n",
       "Loan_Amount_Term     14\n",
       "Credit_History       50\n",
       "Property_Area         0\n",
       "Loan_Status           0\n",
       "dtype: int64"
      ]
     },
     "execution_count": 7,
     "metadata": {},
     "output_type": "execute_result"
    }
   ],
   "source": [
    "bankData.isnull().sum()"
   ]
  },
  {
   "cell_type": "code",
   "execution_count": 8,
   "id": "2abd030c",
   "metadata": {},
   "outputs": [
    {
     "data": {
      "text/plain": [
       "Yes    398\n",
       "No     213\n",
       "Name: Married, dtype: int64"
      ]
     },
     "execution_count": 8,
     "metadata": {},
     "output_type": "execute_result"
    }
   ],
   "source": [
    "bankData.Married.value_counts()"
   ]
  },
  {
   "cell_type": "code",
   "execution_count": 9,
   "id": "83a8bc90",
   "metadata": {},
   "outputs": [
    {
     "data": {
      "text/plain": [
       "0     345\n",
       "1     102\n",
       "2     101\n",
       "3+     51\n",
       "Name: Dependents, dtype: int64"
      ]
     },
     "execution_count": 9,
     "metadata": {},
     "output_type": "execute_result"
    }
   ],
   "source": [
    "bankData.Dependents.value_counts()"
   ]
  },
  {
   "cell_type": "code",
   "execution_count": 10,
   "id": "58320d1e",
   "metadata": {},
   "outputs": [
    {
     "data": {
      "text/plain": [
       "No     500\n",
       "Yes     82\n",
       "Name: Self_Employed, dtype: int64"
      ]
     },
     "execution_count": 10,
     "metadata": {},
     "output_type": "execute_result"
    }
   ],
   "source": [
    "bankData.Self_Employed.value_counts()"
   ]
  },
  {
   "cell_type": "code",
   "execution_count": 11,
   "id": "fa9c022a",
   "metadata": {},
   "outputs": [],
   "source": [
    "bankData.dropna(axis=0, inplace= True)"
   ]
  },
  {
   "cell_type": "code",
   "execution_count": 12,
   "id": "ddf0ff05",
   "metadata": {},
   "outputs": [],
   "source": [
    "bankData.drop(['Loan_ID'], axis=1, inplace=True)"
   ]
  },
  {
   "cell_type": "code",
   "execution_count": 13,
   "id": "0488f115",
   "metadata": {},
   "outputs": [
    {
     "data": {
      "text/plain": [
       "(480, 12)"
      ]
     },
     "execution_count": 13,
     "metadata": {},
     "output_type": "execute_result"
    }
   ],
   "source": [
    "bankData.shape"
   ]
  },
  {
   "cell_type": "code",
   "execution_count": 14,
   "id": "5778d007",
   "metadata": {},
   "outputs": [
    {
     "data": {
      "text/plain": [
       "Gender               0\n",
       "Married              0\n",
       "Dependents           0\n",
       "Education            0\n",
       "Self_Employed        0\n",
       "ApplicantIncome      0\n",
       "CoapplicantIncome    0\n",
       "LoanAmount           0\n",
       "Loan_Amount_Term     0\n",
       "Credit_History       0\n",
       "Property_Area        0\n",
       "Loan_Status          0\n",
       "dtype: int64"
      ]
     },
     "execution_count": 14,
     "metadata": {},
     "output_type": "execute_result"
    }
   ],
   "source": [
    "bankData.isnull().sum()"
   ]
  },
  {
   "cell_type": "code",
   "execution_count": 15,
   "id": "58e58edb",
   "metadata": {},
   "outputs": [],
   "source": [
    "#as we are predicting if we should provide loan or not, \n",
    "#Loan_Status is our target variable\n",
    "\n",
    "#X is training data\n",
    "#Y is testing data\n",
    "\n",
    "X = bankData.drop(['Loan_Status'], axis=1)\n",
    "Y = bankData['Loan_Status']\n",
    "\n",
    "xTrain, xTest,yTrain, yTest = train_test_split(\n",
    "                                                X,Y,\n",
    "                                                test_size=0.3,\n",
    "                                                random_state=1)\n"
   ]
  },
  {
   "cell_type": "code",
   "execution_count": 16,
   "id": "49a2b4ac",
   "metadata": {},
   "outputs": [],
   "source": [
    "num =['ApplicantIncome', 'CoapplicantIncome', 'LoanAmount',  'Loan_Amount_Term']\n",
    "cat = ['Gender','Married','Dependents','Education','Self_Employed','Credit_History','Property_Area']"
   ]
  },
  {
   "cell_type": "markdown",
   "id": "346eafb9",
   "metadata": {},
   "source": [
    "# KNN classification"
   ]
  },
  {
   "cell_type": "code",
   "execution_count": 17,
   "id": "1e81af95",
   "metadata": {},
   "outputs": [
    {
     "name": "stderr",
     "output_type": "stream",
     "text": [
      "C:\\ProgramData\\Anaconda3\\lib\\site-packages\\pandas\\core\\frame.py:3191: SettingWithCopyWarning: \n",
      "A value is trying to be set on a copy of a slice from a DataFrame.\n",
      "Try using .loc[row_indexer,col_indexer] = value instead\n",
      "\n",
      "See the caveats in the documentation: https://pandas.pydata.org/pandas-docs/stable/user_guide/indexing.html#returning-a-view-versus-a-copy\n",
      "  self[k1] = value[k2]\n"
     ]
    }
   ],
   "source": [
    "from sklearn.preprocessing import LabelEncoder\n",
    "le = LabelEncoder()\n",
    "xTrain[cat] = xTrain[cat].apply(le.fit_transform)"
   ]
  },
  {
   "cell_type": "code",
   "execution_count": 18,
   "id": "979da87f",
   "metadata": {},
   "outputs": [
    {
     "data": {
      "text/html": [
       "<div>\n",
       "<style scoped>\n",
       "    .dataframe tbody tr th:only-of-type {\n",
       "        vertical-align: middle;\n",
       "    }\n",
       "\n",
       "    .dataframe tbody tr th {\n",
       "        vertical-align: top;\n",
       "    }\n",
       "\n",
       "    .dataframe thead th {\n",
       "        text-align: right;\n",
       "    }\n",
       "</style>\n",
       "<table border=\"1\" class=\"dataframe\">\n",
       "  <thead>\n",
       "    <tr style=\"text-align: right;\">\n",
       "      <th></th>\n",
       "      <th>Gender</th>\n",
       "      <th>Married</th>\n",
       "      <th>Dependents</th>\n",
       "      <th>Education</th>\n",
       "      <th>Self_Employed</th>\n",
       "      <th>Credit_History</th>\n",
       "      <th>Property_Area</th>\n",
       "    </tr>\n",
       "  </thead>\n",
       "  <tbody>\n",
       "    <tr>\n",
       "      <th>52</th>\n",
       "      <td>0</td>\n",
       "      <td>0</td>\n",
       "      <td>0</td>\n",
       "      <td>0</td>\n",
       "      <td>0</td>\n",
       "      <td>1</td>\n",
       "      <td>1</td>\n",
       "    </tr>\n",
       "    <tr>\n",
       "      <th>439</th>\n",
       "      <td>0</td>\n",
       "      <td>1</td>\n",
       "      <td>0</td>\n",
       "      <td>1</td>\n",
       "      <td>1</td>\n",
       "      <td>1</td>\n",
       "      <td>0</td>\n",
       "    </tr>\n",
       "    <tr>\n",
       "      <th>276</th>\n",
       "      <td>1</td>\n",
       "      <td>1</td>\n",
       "      <td>0</td>\n",
       "      <td>0</td>\n",
       "      <td>0</td>\n",
       "      <td>1</td>\n",
       "      <td>1</td>\n",
       "    </tr>\n",
       "    <tr>\n",
       "      <th>438</th>\n",
       "      <td>1</td>\n",
       "      <td>0</td>\n",
       "      <td>0</td>\n",
       "      <td>0</td>\n",
       "      <td>1</td>\n",
       "      <td>0</td>\n",
       "      <td>2</td>\n",
       "    </tr>\n",
       "    <tr>\n",
       "      <th>208</th>\n",
       "      <td>1</td>\n",
       "      <td>0</td>\n",
       "      <td>0</td>\n",
       "      <td>0</td>\n",
       "      <td>0</td>\n",
       "      <td>1</td>\n",
       "      <td>2</td>\n",
       "    </tr>\n",
       "  </tbody>\n",
       "</table>\n",
       "</div>"
      ],
      "text/plain": [
       "     Gender  Married  Dependents  Education  Self_Employed  Credit_History  \\\n",
       "52        0        0           0          0              0               1   \n",
       "439       0        1           0          1              1               1   \n",
       "276       1        1           0          0              0               1   \n",
       "438       1        0           0          0              1               0   \n",
       "208       1        0           0          0              0               1   \n",
       "\n",
       "     Property_Area  \n",
       "52               1  \n",
       "439              0  \n",
       "276              1  \n",
       "438              2  \n",
       "208              2  "
      ]
     },
     "execution_count": 18,
     "metadata": {},
     "output_type": "execute_result"
    }
   ],
   "source": [
    "xTrain[cat].head()"
   ]
  },
  {
   "cell_type": "code",
   "execution_count": 19,
   "id": "58fb8d18",
   "metadata": {},
   "outputs": [
    {
     "data": {
      "text/plain": [
       "array([[-0.21848915, -0.59611605, -0.43130655,  0.27219883],\n",
       "       [ 0.24953542, -0.59611605, -0.10956682,  0.27219883],\n",
       "       [-0.25658043,  0.71771761,  0.74428094,  0.27219883],\n",
       "       ...,\n",
       "       [ 1.23315848, -0.59611605, -1.32227812,  0.27219883],\n",
       "       [-0.14841404, -0.59611605, -0.14669063,  0.27219883],\n",
       "       [-0.58847286,  0.06360983, -0.57980181,  0.27219883]])"
      ]
     },
     "execution_count": 19,
     "metadata": {},
     "output_type": "execute_result"
    }
   ],
   "source": [
    "from sklearn.preprocessing import StandardScaler\n",
    "ss = StandardScaler()\n",
    "ss.fit_transform(xTrain[num])"
   ]
  },
  {
   "cell_type": "code",
   "execution_count": 20,
   "id": "386f36a3",
   "metadata": {},
   "outputs": [
    {
     "data": {
      "text/plain": [
       "(336, 11)"
      ]
     },
     "execution_count": 20,
     "metadata": {},
     "output_type": "execute_result"
    }
   ],
   "source": [
    "i = xTrain[cat]\n",
    "j = ss.transform(xTrain[num])\n",
    "\n",
    "xtr = np.hstack([i,j])\n",
    "xtr.shape"
   ]
  },
  {
   "cell_type": "code",
   "execution_count": 21,
   "id": "789cc516",
   "metadata": {},
   "outputs": [
    {
     "data": {
      "text/plain": [
       "KNeighborsClassifier(metric='euclidean')"
      ]
     },
     "execution_count": 21,
     "metadata": {},
     "output_type": "execute_result"
    }
   ],
   "source": [
    "knn = KNeighborsClassifier(n_neighbors = 5, metric = 'euclidean')\n",
    "knn.fit(xtr, yTrain)"
   ]
  },
  {
   "cell_type": "code",
   "execution_count": 22,
   "id": "b136d47f",
   "metadata": {},
   "outputs": [
    {
     "name": "stderr",
     "output_type": "stream",
     "text": [
      "C:\\ProgramData\\Anaconda3\\lib\\site-packages\\pandas\\core\\frame.py:3191: SettingWithCopyWarning: \n",
      "A value is trying to be set on a copy of a slice from a DataFrame.\n",
      "Try using .loc[row_indexer,col_indexer] = value instead\n",
      "\n",
      "See the caveats in the documentation: https://pandas.pydata.org/pandas-docs/stable/user_guide/indexing.html#returning-a-view-versus-a-copy\n",
      "  self[k1] = value[k2]\n"
     ]
    }
   ],
   "source": [
    "xTest[cat] = xTest[cat].apply(le.fit_transform)"
   ]
  },
  {
   "cell_type": "code",
   "execution_count": 23,
   "id": "611780e3",
   "metadata": {},
   "outputs": [
    {
     "data": {
      "text/plain": [
       "(144, 11)"
      ]
     },
     "execution_count": 23,
     "metadata": {},
     "output_type": "execute_result"
    }
   ],
   "source": [
    "a = xTest[cat]\n",
    "b = ss.transform(xTest[num])\n",
    "\n",
    "xts = np.hstack([a,b])\n",
    "xts.shape"
   ]
  },
  {
   "cell_type": "code",
   "execution_count": 24,
   "id": "f00df110",
   "metadata": {},
   "outputs": [],
   "source": [
    "yPred = knn.predict(xts)"
   ]
  },
  {
   "cell_type": "code",
   "execution_count": 25,
   "id": "93ce7ddb",
   "metadata": {},
   "outputs": [
    {
     "data": {
      "text/plain": [
       "array([[10, 41],\n",
       "       [ 7, 86]], dtype=int64)"
      ]
     },
     "execution_count": 25,
     "metadata": {},
     "output_type": "execute_result"
    }
   ],
   "source": [
    "confusion_matrix(yTest, yPred)"
   ]
  },
  {
   "cell_type": "code",
   "execution_count": 26,
   "id": "aa2955f8",
   "metadata": {},
   "outputs": [
    {
     "data": {
      "text/plain": [
       "0.6666666666666666"
      ]
     },
     "execution_count": 26,
     "metadata": {},
     "output_type": "execute_result"
    }
   ],
   "source": [
    "from sklearn.metrics import accuracy_score\n",
    "accuracy_score(yTest, yPred)"
   ]
  },
  {
   "cell_type": "code",
   "execution_count": 27,
   "id": "b46ab181",
   "metadata": {},
   "outputs": [
    {
     "data": {
      "text/plain": [
       "(array([0.58823529, 0.67716535]),\n",
       " array([0.19607843, 0.92473118]),\n",
       " array([0.29411765, 0.78181818]),\n",
       " array([51, 93], dtype=int64))"
      ]
     },
     "execution_count": 27,
     "metadata": {},
     "output_type": "execute_result"
    }
   ],
   "source": [
    "from sklearn.metrics import precision_recall_fscore_support\n",
    "precision_recall_fscore_support(yTest, yPred)"
   ]
  },
  {
   "cell_type": "code",
   "execution_count": 28,
   "id": "363685af",
   "metadata": {},
   "outputs": [
    {
     "data": {
      "text/plain": [
       "0.6771653543307087"
      ]
     },
     "execution_count": 28,
     "metadata": {},
     "output_type": "execute_result"
    }
   ],
   "source": [
    "from sklearn.metrics import precision_score\n",
    "precision_score(yTest, yPred, pos_label='Y')"
   ]
  },
  {
   "cell_type": "code",
   "execution_count": 29,
   "id": "1f68ca74",
   "metadata": {},
   "outputs": [
    {
     "data": {
      "text/plain": [
       "0.9247311827956989"
      ]
     },
     "execution_count": 29,
     "metadata": {},
     "output_type": "execute_result"
    }
   ],
   "source": [
    "from sklearn.metrics import recall_score\n",
    "recall_score(yTest, yPred, pos_label='Y')"
   ]
  },
  {
   "cell_type": "code",
   "execution_count": 30,
   "id": "e867bf1e",
   "metadata": {},
   "outputs": [
    {
     "data": {
      "text/plain": [
       "0.7818181818181819"
      ]
     },
     "execution_count": 30,
     "metadata": {},
     "output_type": "execute_result"
    }
   ],
   "source": [
    "from sklearn.metrics import f1_score\n",
    "f1_score(yTest, yPred, pos_label='Y')"
   ]
  },
  {
   "cell_type": "code",
   "execution_count": 31,
   "id": "a900b88c",
   "metadata": {},
   "outputs": [
    {
     "data": {
      "image/png": "[encoded data removed]",
      "text/plain": [
       "<Figure size 720x432 with 1 Axes>"
      ]
     },
     "metadata": {},
     "output_type": "display_data"
    },
    {
     "name": "stdout",
     "output_type": "stream",
     "text": [
      "Minimum error:- 0.3125 at K = 14\n"
     ]
    }
   ],
   "source": [
    "error_rate = []\n",
    "for i in range(1,40):\n",
    "    knn = KNeighborsClassifier(n_neighbors=i)\n",
    "    knn.fit(xtr,yTrain)\n",
    "    pred_i = knn.predict(xts)\n",
    "    error_rate.append(1-accuracy_score(yTest, pred_i))\n",
    "\n",
    "plt.figure(figsize=(10,6))\n",
    "plt.plot(range(1,40),error_rate,color='blue', linestyle='dashed', \n",
    "         marker='o',markerfacecolor='red', markersize=10)\n",
    "plt.title('Error Rate vs. K Value')\n",
    "plt.xlabel('K')\n",
    "plt.ylabel('Error Rate')\n",
    "plt.show()\n",
    "print(\"Minimum error:-\",min(error_rate),\"at K =\",error_rate.index(min(error_rate))+1)"
   ]
  },
  {
   "cell_type": "code",
   "execution_count": 32,
   "id": "402b24e7",
   "metadata": {},
   "outputs": [
    {
     "data": {
      "text/plain": [
       "KNeighborsClassifier(metric='euclidean', n_neighbors=4)"
      ]
     },
     "execution_count": 32,
     "metadata": {},
     "output_type": "execute_result"
    }
   ],
   "source": [
    "knn = KNeighborsClassifier(n_neighbors=4, metric='euclidean')\n",
    "knn.fit(xtr, yTrain)"
   ]
  },
  {
   "cell_type": "code",
   "execution_count": 33,
   "id": "bda43550",
   "metadata": {},
   "outputs": [],
   "source": [
    "yPred = knn.predict(xts)"
   ]
  },
  {
   "cell_type": "code",
   "execution_count": 34,
   "id": "226edd95",
   "metadata": {},
   "outputs": [
    {
     "data": {
      "text/plain": [
       "0.6805555555555556"
      ]
     },
     "execution_count": 34,
     "metadata": {},
     "output_type": "execute_result"
    }
   ],
   "source": [
    "accuracy_score(yTest, yPred)"
   ]
  },
  {
   "cell_type": "markdown",
   "id": "1b78e656",
   "metadata": {},
   "source": [
    "# Decision Tree"
   ]
  },
  {
   "cell_type": "code",
   "execution_count": 35,
   "id": "4fc86799",
   "metadata": {},
   "outputs": [],
   "source": [
    "from sklearn.model_selection import train_test_split\n",
    "from sklearn.preprocessing import StandardScaler\n",
    "from sklearn.tree import DecisionTreeClassifier\n",
    "from sklearn.tree import export_graphviz\n",
    "from sklearn.tree import plot_tree\n",
    "import matplotlib.pyplot as plt\n",
    "from IPython.core.interactiveshell import InteractiveShell\n",
    "InteractiveShell.ast_node_interactivity = \"all\""
   ]
  },
  {
   "cell_type": "code",
   "execution_count": 36,
   "id": "87867997",
   "metadata": {},
   "outputs": [
    {
     "data": {
      "text/plain": [
       "Index(['Gender', 'Married', 'Dependents', 'Education', 'Self_Employed',\n",
       "       'ApplicantIncome', 'CoapplicantIncome', 'LoanAmount',\n",
       "       'Loan_Amount_Term', 'Credit_History', 'Property_Area', 'Loan_Status'],\n",
       "      dtype='object')"
      ]
     },
     "execution_count": 36,
     "metadata": {},
     "output_type": "execute_result"
    }
   ],
   "source": [
    "bankData.columns"
   ]
  },
  {
   "cell_type": "code",
   "execution_count": 39,
   "id": "de31ce94",
   "metadata": {},
   "outputs": [],
   "source": [
    "X= bankData.drop(['Loan_Status'], axis=1)\n",
    "y= bankData['Loan_Status']\n",
    "\n",
    "\n",
    "X_train,X_test,y_train,y_test=train_test_split(X,y,test_size=0.3,random_state=1)"
   ]
  },
  {
   "cell_type": "code",
   "execution_count": 42,
   "id": "817c64d8",
   "metadata": {},
   "outputs": [],
   "source": [
    "from sklearn.preprocessing import LabelEncoder\n",
    "X_train[cat] = X_train[cat].apply(LabelEncoder().fit_transform)"
   ]
  },
  {
   "cell_type": "code",
   "execution_count": 43,
   "id": "8391efd0",
   "metadata": {},
   "outputs": [
    {
     "data": {
      "text/plain": [
       "array([[-0.21848915, -0.59611605, -0.43130655,  0.27219883],\n",
       "       [ 0.24953542, -0.59611605, -0.10956682,  0.27219883],\n",
       "       [-0.25658043,  0.71771761,  0.74428094,  0.27219883],\n",
       "       ...,\n",
       "       [ 1.23315848, -0.59611605, -1.32227812,  0.27219883],\n",
       "       [-0.14841404, -0.59611605, -0.14669063,  0.27219883],\n",
       "       [-0.58847286,  0.06360983, -0.57980181,  0.27219883]])"
      ]
     },
     "execution_count": 43,
     "metadata": {},
     "output_type": "execute_result"
    }
   ],
   "source": [
    "ss = StandardScaler()\n",
    "ss.fit_transform(X_train[num])"
   ]
  },
  {
   "cell_type": "code",
   "execution_count": 44,
   "id": "38a0e22a",
   "metadata": {},
   "outputs": [
    {
     "data": {
      "text/plain": [
       "(336, 11)"
      ]
     },
     "execution_count": 44,
     "metadata": {},
     "output_type": "execute_result"
    }
   ],
   "source": [
    "a = X_train[cat]\n",
    "b = ss.transform(X_train[num])\n",
    "\n",
    "Xtr = np.hstack([a,b])\n",
    "Xtr.shape"
   ]
  },
  {
   "cell_type": "code",
   "execution_count": 47,
   "id": "e546c0bd",
   "metadata": {},
   "outputs": [
    {
     "data": {
      "text/plain": [
       "array([[-4.40370710e-01, -6.28785926e-01, -8.67535588e-01,\n",
       "         1.95068347e+00],\n",
       "       [ 3.42682579e-01, -6.28785926e-01, -8.56500913e-02,\n",
       "         2.84619297e-01],\n",
       "       [ 2.44396577e-01, -6.28785926e-01,  5.30715290e-02,\n",
       "         2.84619297e-01],\n",
       "       [ 3.35769901e+00, -6.28785926e-01,  4.54260760e+00,\n",
       "         2.84619297e-01],\n",
       "       [-3.74680825e-01,  5.03895678e-01,  2.29626318e-01,\n",
       "         2.84619297e-01],\n",
       "       [ 2.88936310e-01, -6.28785926e-01,  2.62730342e-03,\n",
       "         2.84619297e-01],\n",
       "       [-2.85601359e-01, -6.28785926e-01, -3.75704388e-01,\n",
       "         2.84619297e-01],\n",
       "       [-2.11700239e-01, -6.28785926e-01, -1.13236777e+00,\n",
       "        -1.38144488e+00],\n",
       "       [ 1.28423760e+00, -6.28785926e-01,  1.91793149e-01,\n",
       "         2.84619297e-01],\n",
       "       [-7.56130044e-01, -2.06034300e-01, -1.17020094e+00,\n",
       "         2.84619297e-01],\n",
       "       [-6.74017687e-01,  1.69443117e+00, -8.80146644e-01,\n",
       "        -2.21447697e+00],\n",
       "       [-1.07193603e-01, -6.28785926e-01, -2.49593824e-01,\n",
       "         2.84619297e-01],\n",
       "       [-4.14492876e-01,  4.24085189e-01, -3.52058658e-02,\n",
       "         2.84619297e-01],\n",
       "       [-5.57069786e-01, -6.28785926e-01,  2.54848431e-01,\n",
       "         2.84619297e-01],\n",
       "       [-5.79464065e-01,  6.23241111e-02,  2.62730342e-03,\n",
       "        -2.21447697e+00],\n",
       "       [-4.49328421e-01, -1.20299015e-01, -5.64870234e-01,\n",
       "         2.84619297e-01],\n",
       "       [-1.38794419e-01, -6.28785926e-01, -5.01814952e-01,\n",
       "         2.84619297e-01],\n",
       "       [-7.51153537e-01, -2.96844869e-02, -5.01814952e-01,\n",
       "         2.84619297e-01],\n",
       "       [-5.81952318e-01,  6.94186187e-01, -2.49593824e-01,\n",
       "         2.84619297e-01],\n",
       "       [-6.91435460e-01,  1.41089047e-01, -7.30390349e-02,\n",
       "         2.84619297e-01],\n",
       "       [-6.72275910e-01,  2.50090047e+00, -3.52058658e-02,\n",
       "         2.84619297e-01],\n",
       "       [ 1.16082024e+00, -6.28785926e-01,  1.70511992e+00,\n",
       "         2.84619297e-01],\n",
       "       [-8.30777641e-01, -1.45457616e-03, -4.63981783e-01,\n",
       "         2.84619297e-01],\n",
       "       [-6.72027085e-01, -6.28785926e-01, -5.14426009e-01,\n",
       "         2.84619297e-01],\n",
       "       [ 9.73205946e-01,  1.11240709e+00, -1.23483261e-01,\n",
       "         2.84619297e-01],\n",
       "       [-5.98125964e-01, -6.28785926e-01, -8.17091362e-01,\n",
       "         2.84619297e-01],\n",
       "       [-4.17976431e-01, -4.68119397e-01, -4.00926501e-01,\n",
       "        -3.54732831e+00],\n",
       "       [-5.10539451e-01,  3.93219616e-02,  7.82936418e-02,\n",
       "         2.84619297e-01],\n",
       "       [ 1.43871147e-01,  8.33593154e-01,  1.60423147e+00,\n",
       "         2.84619297e-01],\n",
       "       [-6.15294911e-01,  2.53311655e-01, -4.78169222e-02,\n",
       "         2.84619297e-01],\n",
       "       [-6.24252623e-01,  9.34663205e-01, -5.01814952e-01,\n",
       "         2.84619297e-01],\n",
       "       [-5.81952318e-01,  6.34156240e+00, -4.63981783e-01,\n",
       "         2.84619297e-01],\n",
       "       [ 3.83046712e+00, -6.28785926e-01,  4.29038648e+00,\n",
       "         2.84619297e-01],\n",
       "       [ 8.14159911e-02, -6.28785926e-01, -1.48705373e-01,\n",
       "         2.84619297e-01],\n",
       "       [-9.55190302e-01,  4.24433707e-01, -3.75704388e-01,\n",
       "         2.84619297e-01],\n",
       "       [-2.43798705e-01, -6.28785926e-01, -5.52259178e-01,\n",
       "         2.84619297e-01],\n",
       "       [-2.41808103e-01, -6.28785926e-01, -9.81035095e-01,\n",
       "         2.84619297e-01],\n",
       "       [-3.56516576e-01,  9.10615503e-01, -2.11760655e-01,\n",
       "         2.84619297e-01],\n",
       "       [-5.84191746e-01,  8.70688476e-02, -4.51370727e-01,\n",
       "         2.84619297e-01],\n",
       "       [-6.78792023e-02, -6.28785926e-01, -5.01814952e-01,\n",
       "         2.84619297e-01],\n",
       "       [ 2.46387180e-01, -6.28785926e-01, -2.25948094e-02,\n",
       "         2.84619297e-01],\n",
       "       [-2.89582565e-01, -5.44444711e-01, -4.00926501e-01,\n",
       "         2.84619297e-01],\n",
       "       [-6.23506147e-01, -1.00433522e-01, -5.64870234e-01,\n",
       "         2.84619297e-01],\n",
       "       [-8.61134330e-01,  2.67753346e-02,  3.43125826e-01,\n",
       "         2.84619297e-01],\n",
       "       [-4.58783784e-01, -6.28785926e-01, -1.00625721e+00,\n",
       "         2.84619297e-01],\n",
       "       [-4.38877758e-01,  2.13232152e-01, -9.98375298e-03,\n",
       "         2.84619297e-01],\n",
       "       [-3.58009528e-01,  2.42507615e-01, -2.11760655e-01,\n",
       "         2.84619297e-01],\n",
       "       [ 1.11578286e+00,  2.11509169e+00,  3.02928084e+00,\n",
       "        -5.48412792e-01],\n",
       "       [ 2.77739170e-01,  1.33162454e+00,  2.20956217e+00,\n",
       "         2.84619297e-01],\n",
       "       [ 3.22030078e-01,  7.32523103e-01,  2.32306168e+00,\n",
       "         2.84619297e-01],\n",
       "       [ 1.37401689e-01, -6.28785926e-01, -1.23483261e-01,\n",
       "         2.84619297e-01],\n",
       "       [-1.38296769e-01,  4.16766324e-01,  4.06181108e-01,\n",
       "        -3.54732831e+00],\n",
       "       [-8.05895108e-01,  6.34156240e+00,  1.25112189e+00,\n",
       "         2.84619297e-01],\n",
       "       [-3.45568262e-01,  9.57817830e-02,  2.80070544e-01,\n",
       "         2.84619297e-01],\n",
       "       [ 2.43650101e-01,  1.24011694e-01,  5.57513785e-01,\n",
       "         2.84619297e-01],\n",
       "       [ 3.00133449e-01, -6.28785926e-01, -3.12649106e-01,\n",
       "         2.84619297e-01],\n",
       "       [ 4.01109875e-02,  2.56796829e-01,  1.41348924e-01,\n",
       "         1.95068347e+00],\n",
       "       [-2.70920665e-01, -6.28785926e-01, -5.01814952e-01,\n",
       "         2.84619297e-01],\n",
       "       [ 8.69445787e-01,  4.74968732e-01,  3.17903713e-01,\n",
       "         2.84619297e-01],\n",
       "       [-6.00614217e-01,  1.86744829e-01,  4.04604726e-02,\n",
       "         2.84619297e-01],\n",
       "       [-6.36491719e-02, -6.28785926e-01, -3.50482276e-01,\n",
       "         2.84619297e-01],\n",
       "       [-7.53392965e-01, -4.81559100e-02, -1.08192355e+00,\n",
       "         2.84619297e-01],\n",
       "       [ 1.38575833e+00, -6.28785926e-01,  1.50334301e+00,\n",
       "         2.84619297e-01],\n",
       "       [-5.80210541e-01, -6.28785926e-01, -1.05670143e+00,\n",
       "         2.84619297e-01],\n",
       "       [ 7.21772623e+00, -6.28785926e-01,  1.51595407e+00,\n",
       "         2.84619297e-01],\n",
       "       [ 3.89959391e-01, -6.28785926e-01,  1.28737867e-01,\n",
       "         2.84619297e-01],\n",
       "       [-2.71418316e-01, -4.74588751e-02, -3.75704388e-01,\n",
       "         2.84619297e-01],\n",
       "       [ 5.25320366e-01, -6.28785926e-01,  4.44014277e-01,\n",
       "        -2.21447697e+00],\n",
       "       [-6.12309008e-01, -6.28785926e-01, -1.64942108e+00,\n",
       "         2.84619297e-01],\n",
       "       [-6.36491719e-02, -6.28785926e-01, -7.03591855e-01,\n",
       "         2.84619297e-01],\n",
       "       [ 1.64523649e-01, -6.28785926e-01, -4.38759670e-01,\n",
       "         2.84619297e-01],\n",
       "       [-2.93314944e-01,  1.13610627e+00,  5.95346954e-01,\n",
       "         2.84619297e-01],\n",
       "       [-3.87666396e-02,  3.86249267e-02,  5.70124841e-01,\n",
       "         2.84619297e-01],\n",
       "       [ 2.34194739e-01, -6.28785926e-01,  6.58402236e-01,\n",
       "         2.84619297e-01],\n",
       "       [-3.27652839e-01, -6.28785926e-01, -7.41425024e-01,\n",
       "        -2.21447697e+00],\n",
       "       [ 1.05606478e+00, -6.28785926e-01,  1.11240027e+00,\n",
       "         2.84619297e-01],\n",
       "       [ 1.11702698e+00, -6.28785926e-01,  6.07958010e-01,\n",
       "        -2.21447697e+00],\n",
       "       [-4.18225256e-01,  4.35237747e-01, -6.40536573e-01,\n",
       "         2.84619297e-01],\n",
       "       [-6.58590518e-01, -2.16685863e-02, -1.19542305e+00,\n",
       "         2.84619297e-01],\n",
       "       [-5.15267132e-01,  5.08230363e-02,  1.91793149e-01,\n",
       "         2.84619297e-01],\n",
       "       [-4.82422189e-01, -6.28785926e-01, -8.67535588e-01,\n",
       "         2.84619297e-01],\n",
       "       [-3.78910855e-01,  5.91025032e-01, -6.53147629e-01,\n",
       "         2.84619297e-01],\n",
       "       [-6.51374583e-01, -6.28785926e-01, -1.00625721e+00,\n",
       "         2.84619297e-01],\n",
       "       [ 3.31589636e+00, -6.28785926e-01, -1.86538542e-01,\n",
       "         2.84619297e-01],\n",
       "       [-4.66248543e-01,  1.35811187e+00,  1.91793149e-01,\n",
       "        -3.88054115e+00],\n",
       "       [-4.48581945e-01,  2.43901685e-01,  2.29626318e-01,\n",
       "         2.84619297e-01],\n",
       "       [-6.98651394e-01, -6.00055021e-02, -3.37871219e-01,\n",
       "         1.95068347e+00],\n",
       "       [-7.42942302e-01,  3.61003537e-01, -3.25260163e-01,\n",
       "         2.84619297e-01],\n",
       "       [ 8.69445787e-01, -6.28785926e-01,  1.76817520e+00,\n",
       "         2.84619297e-01],\n",
       "       [-1.85075929e-01,  5.72553609e-01,  1.41348924e-01,\n",
       "         2.84619297e-01],\n",
       "       [ 8.04502378e-01, -5.45141746e-01,  1.42767668e+00,\n",
       "         2.84619297e-01],\n",
       "       [-2.64700032e-01, -6.28785926e-01, -3.75704388e-01,\n",
       "         2.84619297e-01],\n",
       "       [-3.04014433e-01, -6.28785926e-01, -4.13537558e-01,\n",
       "         2.84619297e-01],\n",
       "       [-5.75482860e-01, -7.37937224e-03,  6.56825854e-02,\n",
       "         2.84619297e-01],\n",
       "       [-3.33126996e-01, -6.28785926e-01, -7.41425024e-01,\n",
       "        -5.48412792e-01],\n",
       "       [-1.67409331e-01, -6.28785926e-01, -5.27037065e-01,\n",
       "         2.84619297e-01],\n",
       "       [-1.61935174e-01, -6.28785926e-01, -3.12649106e-01,\n",
       "        -2.21447697e+00],\n",
       "       [-2.67934761e-01, -4.81559100e-02, -6.04279785e-02,\n",
       "         2.84619297e-01],\n",
       "       [ 7.73648038e-01,  1.86868988e+00,  4.29038648e+00,\n",
       "         2.84619297e-01],\n",
       "       [-5.81952318e-01, -6.28785926e-01, -1.06931249e+00,\n",
       "         2.84619297e-01],\n",
       "       [-3.50544768e-01, -1.93139155e-01, -1.48705373e-01,\n",
       "         2.84619297e-01],\n",
       "       [ 1.07671728e+00, -6.28785926e-01,  1.31417717e+00,\n",
       "         2.84619297e-01],\n",
       "       [-5.81952318e-01, -6.28785926e-01, -9.17979813e-01,\n",
       "         2.84619297e-01],\n",
       "       [-1.95526593e-01,  2.16717327e-01,  2.29626318e-01,\n",
       "         2.84619297e-01],\n",
       "       [ 1.49150909e+00, -6.28785926e-01,  1.18806660e+00,\n",
       "         2.84619297e-01],\n",
       "       [-5.57069786e-01,  3.72308571e-02, -3.00038050e-01,\n",
       "         2.84619297e-01],\n",
       "       [-5.54379362e-02, -6.28785926e-01, -7.30390349e-02,\n",
       "         2.84619297e-01],\n",
       "       [-1.25855502e-01,  2.25430262e-01, -3.75704388e-01,\n",
       "         2.84619297e-01],\n",
       "       [-3.94338025e-01, -6.28785926e-01, -1.13236777e+00,\n",
       "         2.84619297e-01],\n",
       "       [-2.50268164e-01, -6.28785926e-01, -3.75704388e-01,\n",
       "         2.84619297e-01],\n",
       "       [-5.18501861e-01, -6.28785926e-01, -9.43201926e-01,\n",
       "        -5.48412792e-01],\n",
       "       [-4.57539657e-01, -4.81559100e-02, -5.01814952e-01,\n",
       "         1.95068347e+00],\n",
       "       [-6.23506147e-01, -1.23087155e-01, -4.76592839e-01,\n",
       "         1.95068347e+00],\n",
       "       [-3.08990940e-01,  1.22966142e-01, -2.62204881e-01,\n",
       "         2.84619297e-01],\n",
       "       [-1.82338851e-01, -6.28785926e-01, -1.25847834e+00,\n",
       "        -2.21447697e+00],\n",
       "       [-5.86182349e-01,  2.30658023e-01, -6.27925516e-01,\n",
       "        -2.21447697e+00],\n",
       "       [-1.37052642e-01,  5.08426404e-01, -8.56500913e-02,\n",
       "        -2.21447697e+00],\n",
       "       [-3.68709017e-01,  3.67625368e-01,  5.30715290e-02,\n",
       "         2.84619297e-01],\n",
       "       [-3.33873472e-01,  5.57022801e-02, -3.00038050e-01,\n",
       "         2.84619297e-01],\n",
       "       [ 1.27503106e+00, -6.28785926e-01,  5.07069559e-01,\n",
       "         2.84619297e-01],\n",
       "       [-4.68239146e-01, -6.28785926e-01, -7.41425024e-01,\n",
       "         2.84619297e-01],\n",
       "       [-6.88698382e-01, -3.66003794e-01, -5.77481291e-01,\n",
       "         1.95068347e+00],\n",
       "       [-6.85712478e-01,  4.69043936e-01, -1.48705373e-01,\n",
       "         2.84619297e-01],\n",
       "       [ 1.04541194e-03,  6.97671361e-01,  1.41348924e-01,\n",
       "         2.84619297e-01],\n",
       "       [ 1.65747558e+00, -6.28785926e-01,  1.84384154e+00,\n",
       "         2.84619297e-01],\n",
       "       [-4.42112487e-01,  6.37181807e-02, -3.63093332e-01,\n",
       "        -2.21447697e+00],\n",
       "       [ 5.58911785e-01, -6.28785926e-01, -7.03591855e-01,\n",
       "         2.84619297e-01],\n",
       "       [ 2.43898927e-01,  1.11380116e+00, -2.49593824e-01,\n",
       "         2.84619297e-01],\n",
       "       [-4.78192159e-01, -6.28785926e-01, -7.03591855e-01,\n",
       "         2.84619297e-01],\n",
       "       [-3.09986241e-01,  8.57989373e-01, -9.82611477e-02,\n",
       "        -2.21447697e+00],\n",
       "       [-2.06474907e-01, -3.03815217e-02, -3.00038050e-01,\n",
       "         2.84619297e-01],\n",
       "       [-6.65308801e-01, -6.28785926e-01, -8.80146644e-01,\n",
       "         2.84619297e-01],\n",
       "       [-4.85159268e-01, -6.28785926e-01, -1.19542305e+00,\n",
       "        -2.21447697e+00],\n",
       "       [ 1.43871147e-01, -6.28785926e-01,  3.55736882e-01,\n",
       "         2.84619297e-01],\n",
       "       [-2.36831596e-01,  3.01407059e-01,  2.80070544e-01,\n",
       "         2.84619297e-01],\n",
       "       [-6.69290006e-01,  4.99364951e-01,  4.81847446e-01,\n",
       "         2.84619297e-01],\n",
       "       [-5.61299816e-01,  1.26451316e-01, -4.51370727e-01,\n",
       "         2.84619297e-01],\n",
       "       [ 4.40222106e-01, -6.28785926e-01, -3.52058658e-02,\n",
       "        -2.21447697e+00],\n",
       "       [ 1.41188499e+00,  7.13006128e-01,  2.54848431e-01,\n",
       "        -2.21447697e+00],\n",
       "       [-6.36491719e-02,  1.33162454e+00,  1.45289879e+00,\n",
       "         2.84619297e-01],\n",
       "       [-4.15985828e-01, -6.28785926e-01, -8.29702418e-01,\n",
       "         2.84619297e-01],\n",
       "       [ 2.76697214e-02, -6.28785926e-01, -1.86538542e-01,\n",
       "         2.84619297e-01],\n",
       "       [-2.70920665e-01,  1.02667180e+00,  4.56625334e-01,\n",
       "         2.84619297e-01],\n",
       "       [ 2.71722263e+00, -6.28785926e-01, -1.06931249e+00,\n",
       "         2.84619297e-01]])"
      ]
     },
     "execution_count": 47,
     "metadata": {},
     "output_type": "execute_result"
    },
    {
     "name": "stderr",
     "output_type": "stream",
     "text": [
      "C:\\ProgramData\\Anaconda3\\lib\\site-packages\\pandas\\core\\frame.py:3191: SettingWithCopyWarning: \n",
      "A value is trying to be set on a copy of a slice from a DataFrame.\n",
      "Try using .loc[row_indexer,col_indexer] = value instead\n",
      "\n",
      "See the caveats in the documentation: https://pandas.pydata.org/pandas-docs/stable/user_guide/indexing.html#returning-a-view-versus-a-copy\n",
      "  self[k1] = value[k2]\n"
     ]
    },
    {
     "data": {
      "text/plain": [
       "(144, 11)"
      ]
     },
     "execution_count": 47,
     "metadata": {},
     "output_type": "execute_result"
    }
   ],
   "source": [
    "ss = StandardScaler()\n",
    "ss.fit_transform(X_test[num])\n",
    "le = LabelEncoder()\n",
    "X_test[cat] = X_test[cat].apply(le.fit_transform)\n",
    "a1 = X_test[cat]\n",
    "b1 = ss.transform(X_test[num])\n",
    "\n",
    "Xtr1 = np.hstack([a1,b1]) \n",
    "Xtr1.shape "
   ]
  },
  {
   "cell_type": "code",
   "execution_count": 49,
   "id": "53f632fc",
   "metadata": {},
   "outputs": [],
   "source": [
    "from sklearn.tree import DecisionTreeClassifier as dtree\n",
    "dt = dtree(\n",
    "           criterion=\"entropy\",   \n",
    "           max_depth=None       \n",
    "                             \n",
    "           )\n",
    "\n",
    "_=dt.fit(X_train,y_train)"
   ]
  },
  {
   "cell_type": "code",
   "execution_count": 50,
   "id": "e8d24f46",
   "metadata": {},
   "outputs": [
    {
     "data": {
      "text/plain": [
       "DecisionTreeClassifier(criterion='entropy')"
      ]
     },
     "execution_count": 50,
     "metadata": {},
     "output_type": "execute_result"
    }
   ],
   "source": [
    "dt.fit(X_train,y_train)"
   ]
  },
  {
   "cell_type": "code",
   "execution_count": 51,
   "id": "7ac39fa4",
   "metadata": {},
   "outputs": [],
   "source": [
    "y_pred = dt.predict(Xtr1)"
   ]
  },
  {
   "cell_type": "code",
   "execution_count": 52,
   "id": "3292a27f",
   "metadata": {},
   "outputs": [
    {
     "data": {
      "text/plain": [
       "0.3541666666666667"
      ]
     },
     "execution_count": 52,
     "metadata": {},
     "output_type": "execute_result"
    }
   ],
   "source": [
    "np.sum((y_test == y_pred))/y_test.size"
   ]
  },
  {
   "cell_type": "code",
   "execution_count": 53,
   "id": "0d6b92c4",
   "metadata": {},
   "outputs": [
    {
     "data": {
      "text/plain": [
       "Index(['Gender', 'Married', 'Dependents', 'Education', 'Self_Employed',\n",
       "       'ApplicantIncome', 'CoapplicantIncome', 'LoanAmount',\n",
       "       'Loan_Amount_Term', 'Credit_History', 'Property_Area', 'Loan_Status'],\n",
       "      dtype='object')"
      ]
     },
     "execution_count": 53,
     "metadata": {},
     "output_type": "execute_result"
    }
   ],
   "source": [
    "bankData.columns"
   ]
  },
  {
   "cell_type": "code",
   "execution_count": 54,
   "id": "986a652f",
   "metadata": {},
   "outputs": [
    {
     "data": {
      "text/plain": [
       "array(['N', 'Y'], dtype=object)"
      ]
     },
     "execution_count": 54,
     "metadata": {},
     "output_type": "execute_result"
    }
   ],
   "source": [
    "bankData['Loan_Status'].unique()"
   ]
  },
  {
   "cell_type": "code",
   "execution_count": 55,
   "id": "8cab03ab",
   "metadata": {},
   "outputs": [
    {
     "data": {
      "image/png": "[encoded data removed]",
      "text/plain": [
       "<Figure size 1080x1080 with 1 Axes>"
      ]
     },
     "metadata": {},
     "output_type": "display_data"
    }
   ],
   "source": [
    "_=plt.figure(figsize=(15,15))\n",
    "_=plot_tree(\n",
    "            dt,\n",
    "            max_depth = 3,  # Draw upto depth of 3\n",
    "            rounded = True, # Rounded boxes\n",
    "            filled = True,  # Boxes filled with color\n",
    "            impurity = True,# Show impurity level\n",
    "            node_ids = True,# Display node_id\n",
    "            feature_names = ['Gender', 'Married', 'Dependents', 'Education', 'Self_Employed',\n",
    "       'ApplicantIncome', 'CoapplicantIncome', 'LoanAmount','Loan_Amount_Term', 'Credit_History', 'Property_Area'],\n",
    "            class_names = ['N',' Y']\n",
    "            )\n",
    "\n",
    "_=plt.show()"
   ]
  },
  {
   "cell_type": "markdown",
   "id": "1a7e7983",
   "metadata": {},
   "source": [
    "# Random Forest"
   ]
  },
  {
   "cell_type": "code",
   "execution_count": 56,
   "id": "cf8ddc40",
   "metadata": {},
   "outputs": [
    {
     "data": {
      "text/plain": [
       "RandomForestClassifier()"
      ]
     },
     "execution_count": 56,
     "metadata": {},
     "output_type": "execute_result"
    }
   ],
   "source": [
    "from sklearn.preprocessing import StandardScaler\n",
    "from sklearn.metrics import mean_squared_error,r2_score \n",
    "from sklearn.preprocessing import OneHotEncoder as onehot\n",
    "from sklearn.ensemble import RandomForestClassifier\n",
    "\n",
    "clf=RandomForestClassifier(n_estimators=100)\n",
    "clf.fit(Xtr,y_train)\n",
    "y_pred=clf.predict(Xtr1)"
   ]
  },
  {
   "cell_type": "code",
   "execution_count": 57,
   "id": "9669682f",
   "metadata": {},
   "outputs": [
    {
     "name": "stdout",
     "output_type": "stream",
     "text": [
      "Accuracy: 0.7430555555555556\n"
     ]
    }
   ],
   "source": [
    "from sklearn import metrics\n",
    "print(\"Accuracy:\",metrics.accuracy_score(y_test, y_pred))"
   ]
  },
  {
   "cell_type": "code",
   "execution_count": 58,
   "id": "a759f586",
   "metadata": {},
   "outputs": [
    {
     "data": {
      "text/plain": [
       "array([[24, 27],\n",
       "       [10, 83]], dtype=int64)"
      ]
     },
     "execution_count": 58,
     "metadata": {},
     "output_type": "execute_result"
    }
   ],
   "source": [
    "from sklearn.metrics import classification_report\n",
    "from sklearn.metrics import confusion_matrix\n",
    "metrics.confusion_matrix(y_test, y_pred)"
   ]
  },
  {
   "cell_type": "code",
   "execution_count": 59,
   "id": "eaedb71f",
   "metadata": {},
   "outputs": [
    {
     "data": {
      "text/plain": [
       "RandomForestClassifier()"
      ]
     },
     "execution_count": 59,
     "metadata": {},
     "output_type": "execute_result"
    }
   ],
   "source": [
    "from sklearn.ensemble import RandomForestClassifier\n",
    "clf=RandomForestClassifier(n_estimators=100)\n",
    "clf.fit(X_train,y_train)"
   ]
  },
  {
   "cell_type": "code",
   "execution_count": 60,
   "id": "820a4797",
   "metadata": {},
   "outputs": [
    {
     "name": "stderr",
     "output_type": "stream",
     "text": [
      "<ipython-input-60-d5f6b24cb684>:1: UserWarning: Pandas doesn't allow columns to be created via a new attribute name - see https://pandas.pydata.org/pandas-docs/stable/indexing.html#attribute-access\n",
      "  bankData.feature_names = ['Gender', 'Married', 'Dependents', 'Education', 'Self_Employed',\n",
      "<ipython-input-60-d5f6b24cb684>:3: UserWarning: Pandas doesn't allow columns to be created via a new attribute name - see https://pandas.pydata.org/pandas-docs/stable/indexing.html#attribute-access\n",
      "  bankData.target_names = bankData['Loan_Status']\n"
     ]
    }
   ],
   "source": [
    "bankData.feature_names = ['Gender', 'Married', 'Dependents', 'Education', 'Self_Employed',\n",
    "       'ApplicantIncome', 'CoapplicantIncome', 'LoanAmount','Loan_Amount_Term', 'Credit_History', 'Property_Area'],\n",
    "bankData.target_names = bankData['Loan_Status']"
   ]
  },
  {
   "cell_type": "code",
   "execution_count": 61,
   "id": "01d7538c",
   "metadata": {},
   "outputs": [
    {
     "data": {
      "text/plain": [
       "9     0.247244\n",
       "7     0.195085\n",
       "5     0.188291\n",
       "6     0.121347\n",
       "2     0.052908\n",
       "10    0.052264\n",
       "8     0.046178\n",
       "1     0.036121\n",
       "3     0.026969\n",
       "4     0.017284\n",
       "0     0.016310\n",
       "dtype: float64"
      ]
     },
     "execution_count": 61,
     "metadata": {},
     "output_type": "execute_result"
    }
   ],
   "source": [
    "import pandas as pd\n",
    "feature_imp = pd.Series(clf.feature_importances_).sort_values(ascending=False)\n",
    "feature_imp"
   ]
  },
  {
   "cell_type": "code",
   "execution_count": 62,
   "id": "b70e4ec6",
   "metadata": {},
   "outputs": [
    {
     "data": {
      "text/plain": [
       "[('Gender', 0.24724412805892104),\n",
       " ('Married', 0.19508468645586702),\n",
       " ('Dependents', 0.18829097565239244),\n",
       " ('Education', 0.121346815084275),\n",
       " ('Self_Employed', 0.052908083547431026),\n",
       " ('ApplicantIncome', 0.052263883412135795),\n",
       " ('CoapplicantIncome', 0.04617787759247454),\n",
       " ('LoanAmount', 0.036120676194831725),\n",
       " ('Loan_Amount_Term', 0.026968663334904778),\n",
       " ('Credit_History', 0.01728394916027092),\n",
       " ('Property_Area', 0.01631026150649584)]"
      ]
     },
     "execution_count": 62,
     "metadata": {},
     "output_type": "execute_result"
    }
   ],
   "source": [
    "list(zip(bankData.columns, feature_imp))"
   ]
  },
  {
   "cell_type": "code",
   "execution_count": 63,
   "id": "7da890a8",
   "metadata": {},
   "outputs": [
    {
     "data": {
      "text/plain": [
       "RandomForestClassifier()"
      ]
     },
     "execution_count": 63,
     "metadata": {},
     "output_type": "execute_result"
    },
    {
     "name": "stdout",
     "output_type": "stream",
     "text": [
      "Accuracy: 0.7361111111111112\n"
     ]
    }
   ],
   "source": [
    "#from sklearn.ensemble import RandomForestClassifier\n",
    "clf=RandomForestClassifier(n_estimators=100)\n",
    "clf.fit(Xtr,y_train)\n",
    "y_pred=clf.predict(Xtr1)\n",
    "from sklearn import metrics\n",
    "print(\"Accuracy:\",metrics.accuracy_score(y_test, y_pred))"
   ]
  },
  {
   "cell_type": "code",
   "execution_count": 64,
   "id": "62c4b21b",
   "metadata": {},
   "outputs": [
    {
     "name": "stdout",
     "output_type": "stream",
     "text": [
      "              precision    recall  f1-score   support\n",
      "\n",
      "           N       0.71      0.43      0.54        51\n",
      "           Y       0.74      0.90      0.82        93\n",
      "\n",
      "    accuracy                           0.74       144\n",
      "   macro avg       0.73      0.67      0.68       144\n",
      "weighted avg       0.73      0.74      0.72       144\n",
      "\n"
     ]
    }
   ],
   "source": [
    "print(classification_report(y_test, y_pred))"
   ]
  },
  {
   "cell_type": "code",
   "execution_count": null,
   "id": "6195c14e",
   "metadata": {},
   "outputs": [],
   "source": []
  }
 ],
 "metadata": {
  "kernelspec": {
   "display_name": "Python 3 (ipykernel)",
   "language": "python",
   "name": "python3"
  },
  "language_info": {
   "codemirror_mode": {
    "name": "ipython",
    "version": 3
   },
   "file_extension": ".py",
   "mimetype": "text/x-python",
   "name": "python",
   "nbconvert_exporter": "python",
   "pygments_lexer": "ipython3",
   "version": "3.9.7"
  }
 },
 "nbformat": 4,
 "nbformat_minor": 5
}
